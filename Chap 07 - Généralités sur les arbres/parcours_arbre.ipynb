{
 "cells": [
  {
   "cell_type": "code",
   "execution_count": 17,
   "metadata": {},
   "outputs": [],
   "source": [
    "from graphviz import Digraph"
   ]
  },
  {
   "cell_type": "markdown",
   "metadata": {},
   "source": [
    "## Définition de la File :"
   ]
  },
  {
   "cell_type": "code",
   "execution_count": 18,
   "metadata": {},
   "outputs": [],
   "source": [
    "class File():\n",
    "    def __init__(self):\n",
    "        self.data = []\n",
    "    def enfiler(self, element):\n",
    "        self.data.append(element)\n",
    "    def defiler(self):\n",
    "        return self.data.pop()\n",
    "    def est_vide(self):\n",
    "        return len(self.data) == 0\n",
    "    def taille(self):\n",
    "        return len(self.data)"
   ]
  },
  {
   "cell_type": "markdown",
   "metadata": {},
   "source": [
    "## Définition de la classe Arbre :"
   ]
  },
  {
   "cell_type": "code",
   "execution_count": 19,
   "metadata": {},
   "outputs": [],
   "source": [
    "class Arbre():\n",
    "    def __init__(self, noeud_racine=None):\n",
    "        self.racine = noeud_racine\n",
    "    def visuel(self):\n",
    "        if self.racine:\n",
    "            graphe = Digraph(comment='Arbre')\n",
    "            graphe.format = 'png'\n",
    "            self.racine.ajoute_noeud_visu(graphe)\n",
    "            return graphe.render(\"parcours-arbre/arbre.gv\", view=True)\n",
    "    def parcours_infixe(self):\n",
    "        if self.racine:\n",
    "            return self.racine.parcours_infixe()\n",
    "    def parcours_prefixe(self):\n",
    "        if self.racine:\n",
    "            return self.racine.parcours_prefixe()\n",
    "    def parcours_suffixe(self):\n",
    "        if self.racine:\n",
    "            return self.racine.parcours_suffixe()\n",
    "    def parcours_largeur(self):\n",
    "        file = File()\n",
    "        file.enfiler(self.racine)\n",
    "        while not file.est_vide():\n",
    "            noeud = file.defiler()\n",
    "            print(noeud.valeur)\n",
    "            if noeud.gauche != None:\n",
    "                file.enfiler(noeud.gauche)\n",
    "            if noeud.droit:\n",
    "                file.enfiler(noeud.droit)\n",
    "    def maximum(self):\n",
    "        if self.racine:\n",
    "            return self.racine.maximum()\n",
    "    def minimum(self):\n",
    "        if self.racine:\n",
    "            return self.racine.minimum()\n",
    "    def hauteur(self):\n",
    "        if self.racine:\n",
    "            return self.racine.hauteur()\n",
    "    def inserer(self, noeud):\n",
    "        if self.racine:\n",
    "            return self.racine.inserer(noeud)\n",
    "    def to_dict(self):\n",
    "        if self.racine:\n",
    "            return self.racine.to_dict()"
   ]
  },
  {
   "cell_type": "markdown",
   "metadata": {},
   "source": [
    "## Définition de la classe Noeud"
   ]
  },
  {
   "cell_type": "code",
   "execution_count": 20,
   "metadata": {},
   "outputs": [],
   "source": [
    "class Noeud():\n",
    "    def __init__(self, noeud_valeur=None, fils_gauche=None, fils_droit=None):\n",
    "        self.valeur=noeud_valeur\n",
    "        self.gauche=fils_gauche\n",
    "        self.droit=fils_droit\n",
    "    def ajoute_noeud_visu(self, graphe, pere=None, etiquette=None):\n",
    "        noeud = str(self.valeur)\n",
    "        graphe.node(noeud)\n",
    "        if not pere is None:\n",
    "            graphe.edge(pere, noeud, label=etiquette)\n",
    "        if not self.gauche is None:\n",
    "            self.gauche.ajoute_noeud_visu(graphe, noeud)\n",
    "        if not self.droit is None:\n",
    "            self.droit.ajoute_noeud_visu(graphe, noeud)\n",
    "    def parcours_infixe(self, m=[]):\n",
    "        if self.valeur != None:\n",
    "            if self.gauche:\n",
    "                self.gauche.parcours_infixe(m)\n",
    "            m.append(self.valeur)\n",
    "            if self.droit:\n",
    "                self.droit.parcours_infixe(m)\n",
    "            return m\n",
    "    def parcours_prefixe(self, m=[]):\n",
    "        m.append(self.valeur)\n",
    "        if self.gauche:\n",
    "            self.gauche.parcours_prefixe(m)\n",
    "        if self.droit:\n",
    "            self.droit.parcours_prefixe(m)\n",
    "        return m\n",
    "    def parcours_suffixe(self, m=[]):\n",
    "        if self.gauche:\n",
    "            self.gauche.parcours_suffixe(m)\n",
    "        if self.droit:\n",
    "            self.droit.parcours_suffixe(m)\n",
    "        m.append(self.valeur)\n",
    "        return m\n",
    "    def maximum(self):\n",
    "        if self.droit:\n",
    "            return self.droit.maximum()\n",
    "        return self.valeur\n",
    "    def minimum(self):\n",
    "        if self.gauche:\n",
    "            return self.gauche.minimum()\n",
    "        return self.valeur\n",
    "    def hauteur(self):\n",
    "        if self.gauche != None and self.droit != None:\n",
    "            return max(self.gauche.hauteur(), self.droit.hauteur()) + 1\n",
    "        elif self.gauche != None:\n",
    "            return self.gauche.hauteur() + 1\n",
    "        elif self.droit != None:\n",
    "            return self.droit.hauteur() + 1\n",
    "        return 0\n",
    "    def successeur(self):\n",
    "        if self.droit:\n",
    "            return self.droit.minimum()\n",
    "        else:\n",
    "            pere = self.pere\n",
    "            while pere != None and self == pere.droit:\n",
    "                self = pere\n",
    "                pere = self.pere\n",
    "            return pere\n",
    "    def inserer(self, noeud):\n",
    "        if noeud.valeur < self.valeur:\n",
    "            if self.gauche != None:\n",
    "                self.gauche.inserer(noeud)\n",
    "            else:\n",
    "                self.gauche = noeud\n",
    "        else:\n",
    "            if self.droit != None:\n",
    "                self.droit.inserer(noeud)\n",
    "            else:\n",
    "                self.droit = noeud\n",
    "        return self\n",
    "    def to_dict(self):\n",
    "        if self.gauche:\n",
    "            gauche = self.gauche.to_dict()\n",
    "        else:\n",
    "            gauche = None\n",
    "        if self.droit:\n",
    "            droit = self.droit.to_dict()\n",
    "        else:\n",
    "            droit = None\n",
    "        return {'valeur': self.valeur, 'gauche': gauche, 'droit': droit}\n"
   ]
  },
  {
   "cell_type": "markdown",
   "metadata": {},
   "source": [
    "## Arbre du cours (ex1) :\n",
    "```\n",
    "        15\n",
    "      _/  \\_\n",
    "      10   25\n",
    "         _/  \\_\n",
    "         21   30\n",
    "```"
   ]
  },
  {
   "cell_type": "code",
   "execution_count": 21,
   "metadata": {},
   "outputs": [
    {
     "data": {
      "text/plain": [
       "<__main__.Noeud at 0x1de70aa7b80>"
      ]
     },
     "execution_count": 21,
     "metadata": {},
     "output_type": "execute_result"
    }
   ],
   "source": [
    "n5=Noeud(30)\n",
    "n4=Noeud(21)\n",
    "n3=Noeud(25, n4, n5)\n",
    "n2=Noeud(10)\n",
    "n1=Noeud(15, n2, n3)\n",
    "a = Arbre(n1)\n",
    "n2.pere = n1\n",
    "n3.pere = n1\n",
    "n4.pere = n3\n",
    "n5.pere = n3\n",
    "a.inserer(Noeud(5))"
   ]
  },
  {
   "cell_type": "markdown",
   "metadata": {},
   "source": [
    "## Arbre du cours (ex2) :\n",
    "```\n",
    "        12\n",
    "      _/  \\_\n",
    "      9    20\n",
    "    _/   _/  \\_\n",
    "    7    17   23\n",
    "  _/ \\_     _/  \\_\n",
    "  5   8     21   27\n",
    "          _/\n",
    "          20.5\n",
    "```"
   ]
  },
  {
   "cell_type": "code",
   "execution_count": 22,
   "metadata": {},
   "outputs": [],
   "source": [
    "# a = Arbre(Noeud(12, Noeud(9, Noeud(7, Noeud(5), Noeud(8)), Noeud(20, Noeud(17), Noeud(23, Noeud(21, Noeud(20.5)), Noeud(27))))))"
   ]
  },
  {
   "cell_type": "markdown",
   "metadata": {},
   "source": [
    "## Parcours infixe de l'arbre :"
   ]
  },
  {
   "cell_type": "code",
   "execution_count": 23,
   "metadata": {},
   "outputs": [
    {
     "name": "stdout",
     "output_type": "stream",
     "text": [
      "[5, 10, 15, 21, 25, 30]\n"
     ]
    }
   ],
   "source": [
    "print(a.parcours_infixe())"
   ]
  },
  {
   "cell_type": "markdown",
   "metadata": {},
   "source": [
    "## Parcours préfixe de l'arbre :"
   ]
  },
  {
   "cell_type": "code",
   "execution_count": 24,
   "metadata": {},
   "outputs": [
    {
     "name": "stdout",
     "output_type": "stream",
     "text": [
      "[15, 10, 5, 25, 21, 30]\n"
     ]
    }
   ],
   "source": [
    "print(a.parcours_prefixe())"
   ]
  },
  {
   "cell_type": "markdown",
   "metadata": {},
   "source": [
    "## Parcours suffixe de l'arbre :"
   ]
  },
  {
   "cell_type": "code",
   "execution_count": 25,
   "metadata": {},
   "outputs": [
    {
     "name": "stdout",
     "output_type": "stream",
     "text": [
      "[5, 10, 21, 30, 25, 15]\n"
     ]
    }
   ],
   "source": [
    "print(a.parcours_suffixe())"
   ]
  },
  {
   "cell_type": "markdown",
   "metadata": {},
   "source": [
    "## Parcours en largeur de l'arbre :"
   ]
  },
  {
   "cell_type": "code",
   "execution_count": 26,
   "metadata": {},
   "outputs": [
    {
     "name": "stdout",
     "output_type": "stream",
     "text": [
      "15\n",
      "25\n",
      "30\n",
      "21\n",
      "10\n",
      "5\n"
     ]
    }
   ],
   "source": [
    "a.parcours_largeur()"
   ]
  },
  {
   "cell_type": "markdown",
   "metadata": {},
   "source": [
    "## Affichage du maximum et minimum de l'arbre :"
   ]
  },
  {
   "cell_type": "code",
   "execution_count": 27,
   "metadata": {},
   "outputs": [
    {
     "name": "stdout",
     "output_type": "stream",
     "text": [
      "Maximum : 30\n",
      "Minimum : 5\n"
     ]
    }
   ],
   "source": [
    "print(\"Maximum : \" + str(a.maximum()))\n",
    "print(\"Minimum : \" + str(a.minimum()))"
   ]
  },
  {
   "cell_type": "markdown",
   "metadata": {},
   "source": [
    "## Affichage de la hauteur de l'arbre :"
   ]
  },
  {
   "cell_type": "code",
   "execution_count": 28,
   "metadata": {},
   "outputs": [
    {
     "name": "stdout",
     "output_type": "stream",
     "text": [
      "2\n"
     ]
    }
   ],
   "source": [
    "print(a.hauteur())"
   ]
  },
  {
   "cell_type": "markdown",
   "metadata": {},
   "source": [
    "## Affichage du successeur d'un noeud :"
   ]
  },
  {
   "cell_type": "code",
   "execution_count": 29,
   "metadata": {},
   "outputs": [
    {
     "name": "stdout",
     "output_type": "stream",
     "text": [
      "21\n"
     ]
    }
   ],
   "source": [
    "print(a.racine.successeur())"
   ]
  },
  {
   "cell_type": "markdown",
   "metadata": {},
   "source": [
    "## Affichage de l'arbre :"
   ]
  },
  {
   "cell_type": "code",
   "execution_count": 30,
   "metadata": {},
   "outputs": [],
   "source": [
    "# a.visuel()"
   ]
  },
  {
   "cell_type": "markdown",
   "metadata": {},
   "source": [
    "## Conversion de l'arbre en dictionnaire :"
   ]
  },
  {
   "cell_type": "code",
   "execution_count": 31,
   "metadata": {},
   "outputs": [],
   "source": [
    "adict = a.to_dict()"
   ]
  },
  {
   "cell_type": "markdown",
   "metadata": {},
   "source": [
    "## Fonctions d'arbre au format dictionnaire :"
   ]
  },
  {
   "cell_type": "code",
   "execution_count": 36,
   "metadata": {},
   "outputs": [],
   "source": [
    "def est_feuille(noeud):\n",
    "    return noeud['gauche'] is None and noeud['droit'] is None\n",
    "\n",
    "def taille(arbre):\n",
    "    if est_feuille(arbre):\n",
    "        return 1\n",
    "    else:\n",
    "        return 1 + taille(arbre['gauche']) + taille(arbre['droit'])\n",
    "\n",
    "def hauteur(arbre):\n",
    "    if est_feuille(arbre):\n",
    "        return 0\n",
    "    else:\n",
    "        return 1 + max(hauteur(arbre['gauche']), hauteur(arbre['droit']))\n",
    "\n",
    "def somme_valeurs(arbre):\n",
    "    if est_feuille(arbre):\n",
    "        return arbre['valeur']\n",
    "    else:\n",
    "        return arbre['valeur'] + somme_valeurs(arbre['gauche']) + somme_valeurs(arbre['droit'])\n",
    "\n",
    "def recherche_noeud(arbre, valeur):\n",
    "    if arbre['valeur'] == valeur:\n",
    "        return arbre\n",
    "    elif arbre['valeur'] > valeur:\n",
    "        if arbre['gauche'] is None:\n",
    "            return None\n",
    "        return recherche_noeud(arbre['gauche'], valeur)\n",
    "    else:\n",
    "        if arbre['droit'] is None:\n",
    "            return None\n",
    "        return recherche_noeud(arbre['droit'], valeur)"
   ]
  },
  {
   "cell_type": "code",
   "execution_count": 37,
   "metadata": {},
   "outputs": [
    {
     "data": {
      "text/plain": [
       "{'valeur': 10,\n",
       " 'gauche': {'valeur': 5, 'gauche': None, 'droit': None},\n",
       " 'droit': None}"
      ]
     },
     "execution_count": 37,
     "metadata": {},
     "output_type": "execute_result"
    }
   ],
   "source": [
    "recherche_noeud(adict, 10)"
   ]
  }
 ],
 "metadata": {
  "interpreter": {
   "hash": "ac59ebe37160ed0dfa835113d9b8498d9f09ceb179beaac4002f036b9467c963"
  },
  "kernelspec": {
   "display_name": "Python 3.9.6 64-bit",
   "language": "python",
   "name": "python3"
  },
  "language_info": {
   "codemirror_mode": {
    "name": "ipython",
    "version": 3
   },
   "file_extension": ".py",
   "mimetype": "text/x-python",
   "name": "python",
   "nbconvert_exporter": "python",
   "pygments_lexer": "ipython3",
   "version": "3.9.6"
  },
  "orig_nbformat": 4
 },
 "nbformat": 4,
 "nbformat_minor": 2
}
