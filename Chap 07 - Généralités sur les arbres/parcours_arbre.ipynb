{
 "cells": [
  {
   "cell_type": "markdown",
   "metadata": {},
   "source": [
    "## Définition de la File :"
   ]
  },
  {
   "cell_type": "code",
   "execution_count": 56,
   "metadata": {},
   "outputs": [],
   "source": [
    "class File():\n",
    "    def __init__(self):\n",
    "        self.data = []\n",
    "    def enfiler(self, element):\n",
    "        self.data.append(element)\n",
    "    def defiler(self):\n",
    "        return self.data.pop()\n",
    "    def est_vide(self):\n",
    "        return len(self.data) == 0\n",
    "    def taille(self):\n",
    "        return len(self.data)"
   ]
  },
  {
   "cell_type": "markdown",
   "metadata": {},
   "source": [
    "## Définition de la classe Arbre :"
   ]
  },
  {
   "cell_type": "code",
   "execution_count": 57,
   "metadata": {},
   "outputs": [],
   "source": [
    "class Arbre():\n",
    "    def __init__(self, noeud_racine=None):\n",
    "        self.racine = noeud_racine\n",
    "    def parcours_infixe(self):\n",
    "        if self.racine:\n",
    "            self.racine.parcours_infixe()\n",
    "    def parcours_prefixe(self):\n",
    "        if self.racine:\n",
    "            self.racine.parcours_prefixe()\n",
    "    def parcours_suffixe(self):\n",
    "        if self.racine:\n",
    "            self.racine.parcours_suffixe()\n",
    "    def parcours_largeur(self):\n",
    "        file = File()\n",
    "        file.enfiler(self.racine)\n",
    "        while not file.est_vide():\n",
    "            noeud = file.defiler()\n",
    "            print(noeud.valeur)\n",
    "            if noeud.gauche != None:\n",
    "                file.enfiler(noeud.gauche)\n",
    "            if noeud.droit:\n",
    "                file.enfiler(noeud.droit)\n",
    "    def maximum(self):\n",
    "        if self.racine:\n",
    "            return self.racine.maximum()\n",
    "    def minimum(self):\n",
    "        if self.racine:\n",
    "            return self.racine.minimum()\n",
    "    def hauteur(self):\n",
    "        if self.racine:\n",
    "            return self.racine.hauteur()\n",
    "            "
   ]
  },
  {
   "cell_type": "markdown",
   "metadata": {},
   "source": [
    "## Définition de la classe Noeud"
   ]
  },
  {
   "cell_type": "code",
   "execution_count": 58,
   "metadata": {},
   "outputs": [],
   "source": [
    "class Noeud():\n",
    "    def __init__(self, noeud_valeur=None, fils_gauche=None, fils_droit=None):\n",
    "        self.valeur=noeud_valeur\n",
    "        self.gauche=fils_gauche\n",
    "        self.droit=fils_droit\n",
    "    def parcours_infixe(self):\n",
    "        if self.gauche:\n",
    "            self.gauche.parcours_infixe()\n",
    "        print(self.valeur)\n",
    "        if self.droit:\n",
    "            self.droit.parcours_infixe()\n",
    "    def parcours_prefixe(self):\n",
    "        print(self.valeur)\n",
    "        if self.gauche:\n",
    "            self.gauche.parcours_prefixe()\n",
    "        if self.droit:\n",
    "            self.droit.parcours_prefixe()\n",
    "    def parcours_suffixe(self):\n",
    "        if self.gauche:\n",
    "            self.gauche.parcours_suffixe()\n",
    "        if self.droit:\n",
    "            self.droit.parcours_suffixe()\n",
    "        print(self.valeur)\n",
    "    def maximum(self):\n",
    "        if self.droit:\n",
    "            return self.droit.maximum()\n",
    "        return self.valeur\n",
    "    def minimum(self):\n",
    "        if self.gauche:\n",
    "            return self.gauche.minimum()\n",
    "        return self.valeur\n",
    "    def hauteur(self):\n",
    "        if self.gauche != None and self.droit != None:\n",
    "            return max(self.gauche.hauteur(), self.droit.hauteur()) + 1\n",
    "        elif self.gauche != None:\n",
    "            return self.gauche.hauteur() + 1\n",
    "        elif self.droit != None:\n",
    "            return self.droit.hauteur() + 1\n",
    "        return 0"
   ]
  },
  {
   "cell_type": "markdown",
   "metadata": {},
   "source": [
    "## Arbre du cours (ex1) :\n",
    "```\n",
    "        15\n",
    "      _/  \\_\n",
    "      10   25\n",
    "         _/  \\_\n",
    "         21   30\n",
    "```"
   ]
  },
  {
   "cell_type": "code",
   "execution_count": 59,
   "metadata": {},
   "outputs": [],
   "source": [
    "a = Arbre(Noeud(15,Noeud(10), Noeud(25, Noeud(21), Noeud(30))))"
   ]
  },
  {
   "cell_type": "markdown",
   "metadata": {},
   "source": [
    "## Arbre du cours (ex2) :\n",
    "```\n",
    "        12\n",
    "      _/  \\_\n",
    "      9    20\n",
    "    _/   _/  \\_\n",
    "    7    17   23\n",
    "  _/ \\_     _/  \\_\n",
    "  5   8     21   27\n",
    "          _/\n",
    "          20.5\n",
    "```"
   ]
  },
  {
   "cell_type": "code",
   "execution_count": 60,
   "metadata": {},
   "outputs": [],
   "source": [
    "a = Arbre(Noeud(12, Noeud(9, Noeud(7, Noeud(5), Noeud(8)), Noeud(20, Noeud(17), Noeud(23, Noeud(21, Noeud(20.5)), Noeud(27))))))"
   ]
  },
  {
   "cell_type": "markdown",
   "metadata": {},
   "source": [
    "## Parcours infixe de l'arbre :"
   ]
  },
  {
   "cell_type": "code",
   "execution_count": 61,
   "metadata": {},
   "outputs": [
    {
     "name": "stdout",
     "output_type": "stream",
     "text": [
      "5\n",
      "7\n",
      "8\n",
      "9\n",
      "17\n",
      "20\n",
      "20.5\n",
      "21\n",
      "23\n",
      "27\n",
      "12\n"
     ]
    }
   ],
   "source": [
    "a.parcours_infixe()"
   ]
  },
  {
   "cell_type": "markdown",
   "metadata": {},
   "source": [
    "## Parcours préfixe de l'arbre :"
   ]
  },
  {
   "cell_type": "code",
   "execution_count": 62,
   "metadata": {},
   "outputs": [
    {
     "name": "stdout",
     "output_type": "stream",
     "text": [
      "12\n",
      "9\n",
      "7\n",
      "5\n",
      "8\n",
      "20\n",
      "17\n",
      "23\n",
      "21\n",
      "20.5\n",
      "27\n"
     ]
    }
   ],
   "source": [
    "a.parcours_prefixe()"
   ]
  },
  {
   "cell_type": "markdown",
   "metadata": {},
   "source": [
    "## Parcours suffixe de l'arbre :"
   ]
  },
  {
   "cell_type": "code",
   "execution_count": 63,
   "metadata": {},
   "outputs": [
    {
     "name": "stdout",
     "output_type": "stream",
     "text": [
      "5\n",
      "8\n",
      "7\n",
      "17\n",
      "20.5\n",
      "21\n",
      "27\n",
      "23\n",
      "20\n",
      "9\n",
      "12\n"
     ]
    }
   ],
   "source": [
    "a.parcours_suffixe()"
   ]
  },
  {
   "cell_type": "markdown",
   "metadata": {},
   "source": [
    "## Parcours en largeur de l'arbre :"
   ]
  },
  {
   "cell_type": "code",
   "execution_count": 64,
   "metadata": {},
   "outputs": [
    {
     "name": "stdout",
     "output_type": "stream",
     "text": [
      "12\n",
      "9\n",
      "20\n",
      "23\n",
      "27\n",
      "21\n",
      "20.5\n",
      "17\n",
      "7\n",
      "8\n",
      "5\n"
     ]
    }
   ],
   "source": [
    "a.parcours_largeur()"
   ]
  },
  {
   "cell_type": "markdown",
   "metadata": {},
   "source": [
    "## Affichage du maximum et minimum de l'arbre :"
   ]
  },
  {
   "cell_type": "code",
   "execution_count": 65,
   "metadata": {},
   "outputs": [
    {
     "name": "stdout",
     "output_type": "stream",
     "text": [
      "Maximum : 12\n",
      "Minimum : 5\n"
     ]
    }
   ],
   "source": [
    "print(\"Maximum : \" + str(a.maximum()))\n",
    "print(\"Minimum : \" + str(a.minimum()))"
   ]
  },
  {
   "cell_type": "markdown",
   "metadata": {},
   "source": [
    "## Affichage de la hauteur de l'arbre :"
   ]
  },
  {
   "cell_type": "code",
   "execution_count": 66,
   "metadata": {},
   "outputs": [
    {
     "name": "stdout",
     "output_type": "stream",
     "text": [
      "5\n"
     ]
    }
   ],
   "source": [
    "print(a.hauteur())"
   ]
  }
 ],
 "metadata": {
  "interpreter": {
   "hash": "ac59ebe37160ed0dfa835113d9b8498d9f09ceb179beaac4002f036b9467c963"
  },
  "kernelspec": {
   "display_name": "Python 3.9.6 64-bit",
   "language": "python",
   "name": "python3"
  },
  "language_info": {
   "codemirror_mode": {
    "name": "ipython",
    "version": 3
   },
   "file_extension": ".py",
   "mimetype": "text/x-python",
   "name": "python",
   "nbconvert_exporter": "python",
   "pygments_lexer": "ipython3",
   "version": "3.9.6"
  },
  "orig_nbformat": 4
 },
 "nbformat": 4,
 "nbformat_minor": 2
}
