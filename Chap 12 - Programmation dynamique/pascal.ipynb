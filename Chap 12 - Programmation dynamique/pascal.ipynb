{
 "cells": [
  {
   "cell_type": "markdown",
   "metadata": {},
   "source": [
    "### Question 2 :"
   ]
  },
  {
   "cell_type": "code",
   "execution_count": 1,
   "metadata": {},
   "outputs": [],
   "source": [
    "def binomial_rec(n, m):\n",
    "    if m == 0 or m == n:\n",
    "        return 1\n",
    "    else:\n",
    "        return binomial_rec(n - 1, m) + binomial_rec(n - 1, m - 1)"
   ]
  },
  {
   "cell_type": "markdown",
   "metadata": {},
   "source": [
    "### Question 3 :\n",
    "La complexité de binomial\\_rec(n, m) est $\\sum_{i=1}^{n-1} 2^i$"
   ]
  },
  {
   "cell_type": "markdown",
   "metadata": {},
   "source": [
    "### Question 4 :"
   ]
  },
  {
   "cell_type": "code",
   "execution_count": 2,
   "metadata": {},
   "outputs": [],
   "source": [
    "def binomial_dyn(n, m):\n",
    "    if m == 0 or m == n:\n",
    "        return 1\n",
    "    else:\n",
    "        if m < n:\n",
    "            return binomial_dyn(n - 1, m) + binomial_dyn(n - 1, m - 1)\n",
    "        else:\n",
    "            return binomial_dyn(n - 1, m)"
   ]
  },
  {
   "cell_type": "markdown",
   "metadata": {},
   "source": [
    "### Question 5 :"
   ]
  },
  {
   "cell_type": "code",
   "execution_count": 9,
   "metadata": {},
   "outputs": [],
   "source": [
    "def binomial_memoise(n, m, K):\n",
    "    if m == 0 or m == n:\n",
    "        return 1\n",
    "    else:\n",
    "        if K[n][m] == -1:\n",
    "            K[n][m] = binomial_memoise(n - 1, m, K) + binomial_memoise(n - 1, m - 1, K)\n",
    "        return K[n][m]\n",
    "\n",
    "def binomial(n, m):\n",
    "    K = [[-1] * (n + 1) for i in range(n + 1)]\n",
    "    K[0][0] = 1\n",
    "    K[1][0], K[1][1] = 1, 1\n",
    "    return binomial_memoise(n, m, K)"
   ]
  }
 ],
 "metadata": {
  "interpreter": {
   "hash": "d9a4ba7a39ad5692da286452aea182a2f639774b342ad6371c4f013f8b98072d"
  },
  "kernelspec": {
   "display_name": "Python 3.10.4 64-bit",
   "language": "python",
   "name": "python3"
  },
  "language_info": {
   "codemirror_mode": {
    "name": "ipython",
    "version": 3
   },
   "file_extension": ".py",
   "mimetype": "text/x-python",
   "name": "python",
   "nbconvert_exporter": "python",
   "pygments_lexer": "ipython3",
   "version": "3.10.4"
  },
  "orig_nbformat": 4
 },
 "nbformat": 4,
 "nbformat_minor": 2
}
